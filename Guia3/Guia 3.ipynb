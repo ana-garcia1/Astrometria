{
 "cells": [
  {
   "cell_type": "markdown",
   "id": "ab71dcf8",
   "metadata": {},
   "source": [
    "##### Ana Laura García\n",
    "\n",
    "# Astrometría\n",
    "## Guía 3\n",
    "## Bases de datos\n",
    "\n",
    "### Caso de estudio: catálogo de galaxias y base de datos SDSS CasJobs"
   ]
  },
  {
   "cell_type": "markdown",
   "id": "10a88bff",
   "metadata": {},
   "source": [
    "Se obtiene una lista de galaxias con las siguientes propiedades:\n",
    "\n",
    "- Redshift\n",
    "\n",
    "- Magnitudes Petrosian en las bandas u, g, y r\n",
    "\n",
    "- Clasificación como elíptica/espiral\n"
   ]
  },
  {
   "cell_type": "code",
   "execution_count": 1,
   "id": "562314e9",
   "metadata": {},
   "outputs": [],
   "source": [
    "import numpy as np\n",
    "import matplotlib.pyplot as plt\n",
    "import pandas as pd\n",
    "import scipy as sp\n",
    "import scipy.stats as st"
   ]
  },
  {
   "cell_type": "code",
   "execution_count": 2,
   "id": "d4b74dfa",
   "metadata": {},
   "outputs": [],
   "source": [
    "df = pd.read_csv('Tabla_ana_g.csv')  \n",
    "\n",
    "# adentro se puede definir el separdor como sep=','"
   ]
  },
  {
   "cell_type": "code",
   "execution_count": 3,
   "id": "7e9f55c7",
   "metadata": {},
   "outputs": [
    {
     "data": {
      "text/html": [
       "<div>\n",
       "<style scoped>\n",
       "    .dataframe tbody tr th:only-of-type {\n",
       "        vertical-align: middle;\n",
       "    }\n",
       "\n",
       "    .dataframe tbody tr th {\n",
       "        vertical-align: top;\n",
       "    }\n",
       "\n",
       "    .dataframe thead th {\n",
       "        text-align: right;\n",
       "    }\n",
       "</style>\n",
       "<table border=\"1\" class=\"dataframe\">\n",
       "  <thead>\n",
       "    <tr style=\"text-align: right;\">\n",
       "      <th></th>\n",
       "      <th>specobjid</th>\n",
       "      <th>z</th>\n",
       "      <th>petroMag_u</th>\n",
       "      <th>petroMAg_g</th>\n",
       "      <th>petroMag_r</th>\n",
       "      <th>spiral</th>\n",
       "      <th>elliptical</th>\n",
       "    </tr>\n",
       "  </thead>\n",
       "  <tbody>\n",
       "    <tr>\n",
       "      <th>0</th>\n",
       "      <td>1894928908403369984</td>\n",
       "      <td>0.225290</td>\n",
       "      <td>23.37062</td>\n",
       "      <td>19.16118</td>\n",
       "      <td>17.74949</td>\n",
       "      <td>0</td>\n",
       "      <td>1</td>\n",
       "    </tr>\n",
       "    <tr>\n",
       "      <th>1</th>\n",
       "      <td>1894929458159183872</td>\n",
       "      <td>0.029481</td>\n",
       "      <td>19.06674</td>\n",
       "      <td>17.64780</td>\n",
       "      <td>16.97169</td>\n",
       "      <td>1</td>\n",
       "      <td>0</td>\n",
       "    </tr>\n",
       "    <tr>\n",
       "      <th>2</th>\n",
       "      <td>1894931107426625536</td>\n",
       "      <td>0.120944</td>\n",
       "      <td>18.87652</td>\n",
       "      <td>17.73847</td>\n",
       "      <td>17.02267</td>\n",
       "      <td>1</td>\n",
       "      <td>0</td>\n",
       "    </tr>\n",
       "    <tr>\n",
       "      <th>3</th>\n",
       "      <td>1894932206938253312</td>\n",
       "      <td>0.028906</td>\n",
       "      <td>17.18771</td>\n",
       "      <td>15.64760</td>\n",
       "      <td>14.99060</td>\n",
       "      <td>0</td>\n",
       "      <td>1</td>\n",
       "    </tr>\n",
       "    <tr>\n",
       "      <th>4</th>\n",
       "      <td>1894933031571974144</td>\n",
       "      <td>0.029092</td>\n",
       "      <td>16.76050</td>\n",
       "      <td>14.87574</td>\n",
       "      <td>14.06400</td>\n",
       "      <td>0</td>\n",
       "      <td>1</td>\n",
       "    </tr>\n",
       "    <tr>\n",
       "      <th>...</th>\n",
       "      <td>...</td>\n",
       "      <td>...</td>\n",
       "      <td>...</td>\n",
       "      <td>...</td>\n",
       "      <td>...</td>\n",
       "      <td>...</td>\n",
       "      <td>...</td>\n",
       "    </tr>\n",
       "    <tr>\n",
       "      <th>245651</th>\n",
       "      <td>2261949195353090048</td>\n",
       "      <td>0.075047</td>\n",
       "      <td>19.85995</td>\n",
       "      <td>18.40900</td>\n",
       "      <td>17.45659</td>\n",
       "      <td>1</td>\n",
       "      <td>0</td>\n",
       "    </tr>\n",
       "    <tr>\n",
       "      <th>245652</th>\n",
       "      <td>2261949470230996992</td>\n",
       "      <td>0.076609</td>\n",
       "      <td>20.17348</td>\n",
       "      <td>18.51751</td>\n",
       "      <td>17.62653</td>\n",
       "      <td>1</td>\n",
       "      <td>0</td>\n",
       "    </tr>\n",
       "    <tr>\n",
       "      <th>245653</th>\n",
       "      <td>2261950294864717824</td>\n",
       "      <td>0.197473</td>\n",
       "      <td>20.54215</td>\n",
       "      <td>18.52187</td>\n",
       "      <td>17.30491</td>\n",
       "      <td>0</td>\n",
       "      <td>1</td>\n",
       "    </tr>\n",
       "    <tr>\n",
       "      <th>245654</th>\n",
       "      <td>2261950844620531712</td>\n",
       "      <td>0.187519</td>\n",
       "      <td>20.02478</td>\n",
       "      <td>18.21579</td>\n",
       "      <td>16.91184</td>\n",
       "      <td>0</td>\n",
       "      <td>1</td>\n",
       "    </tr>\n",
       "    <tr>\n",
       "      <th>245655</th>\n",
       "      <td>317622548332308480</td>\n",
       "      <td>0.117098</td>\n",
       "      <td>20.29231</td>\n",
       "      <td>18.51707</td>\n",
       "      <td>17.53706</td>\n",
       "      <td>1</td>\n",
       "      <td>0</td>\n",
       "    </tr>\n",
       "  </tbody>\n",
       "</table>\n",
       "<p>245656 rows × 7 columns</p>\n",
       "</div>"
      ],
      "text/plain": [
       "                  specobjid         z  petroMag_u  petroMAg_g  petroMag_r  \\\n",
       "0       1894928908403369984  0.225290    23.37062    19.16118    17.74949   \n",
       "1       1894929458159183872  0.029481    19.06674    17.64780    16.97169   \n",
       "2       1894931107426625536  0.120944    18.87652    17.73847    17.02267   \n",
       "3       1894932206938253312  0.028906    17.18771    15.64760    14.99060   \n",
       "4       1894933031571974144  0.029092    16.76050    14.87574    14.06400   \n",
       "...                     ...       ...         ...         ...         ...   \n",
       "245651  2261949195353090048  0.075047    19.85995    18.40900    17.45659   \n",
       "245652  2261949470230996992  0.076609    20.17348    18.51751    17.62653   \n",
       "245653  2261950294864717824  0.197473    20.54215    18.52187    17.30491   \n",
       "245654  2261950844620531712  0.187519    20.02478    18.21579    16.91184   \n",
       "245655   317622548332308480  0.117098    20.29231    18.51707    17.53706   \n",
       "\n",
       "        spiral  elliptical  \n",
       "0            0           1  \n",
       "1            1           0  \n",
       "2            1           0  \n",
       "3            0           1  \n",
       "4            0           1  \n",
       "...        ...         ...  \n",
       "245651       1           0  \n",
       "245652       1           0  \n",
       "245653       0           1  \n",
       "245654       0           1  \n",
       "245655       1           0  \n",
       "\n",
       "[245656 rows x 7 columns]"
      ]
     },
     "execution_count": 3,
     "metadata": {},
     "output_type": "execute_result"
    }
   ],
   "source": [
    "df"
   ]
  },
  {
   "cell_type": "code",
   "execution_count": 4,
   "id": "dfef3075",
   "metadata": {},
   "outputs": [
    {
     "data": {
      "text/plain": [
       "0         0.225290\n",
       "1         0.029481\n",
       "2         0.120944\n",
       "3         0.028906\n",
       "4         0.029092\n",
       "            ...   \n",
       "245651    0.075047\n",
       "245652    0.076609\n",
       "245653    0.197473\n",
       "245654    0.187519\n",
       "245655    0.117098\n",
       "Name: z, Length: 245656, dtype: float64"
      ]
     },
     "execution_count": 4,
     "metadata": {},
     "output_type": "execute_result"
    }
   ],
   "source": [
    "#para ver una de las columnas:\n",
    "df['z']"
   ]
  },
  {
   "cell_type": "code",
   "execution_count": 5,
   "id": "f4e57313",
   "metadata": {},
   "outputs": [
    {
     "data": {
      "text/html": [
       "<div>\n",
       "<style scoped>\n",
       "    .dataframe tbody tr th:only-of-type {\n",
       "        vertical-align: middle;\n",
       "    }\n",
       "\n",
       "    .dataframe tbody tr th {\n",
       "        vertical-align: top;\n",
       "    }\n",
       "\n",
       "    .dataframe thead th {\n",
       "        text-align: right;\n",
       "    }\n",
       "</style>\n",
       "<table border=\"1\" class=\"dataframe\">\n",
       "  <thead>\n",
       "    <tr style=\"text-align: right;\">\n",
       "      <th></th>\n",
       "      <th>specobjid</th>\n",
       "      <th>z</th>\n",
       "      <th>petroMag_u</th>\n",
       "      <th>petroMAg_g</th>\n",
       "      <th>petroMag_r</th>\n",
       "      <th>spiral</th>\n",
       "      <th>elliptical</th>\n",
       "    </tr>\n",
       "  </thead>\n",
       "  <tbody>\n",
       "    <tr>\n",
       "      <th>count</th>\n",
       "      <td>2.456560e+05</td>\n",
       "      <td>245656.000000</td>\n",
       "      <td>245656.000000</td>\n",
       "      <td>245656.000000</td>\n",
       "      <td>245656.000000</td>\n",
       "      <td>245656.000000</td>\n",
       "      <td>245656.000000</td>\n",
       "    </tr>\n",
       "    <tr>\n",
       "      <th>mean</th>\n",
       "      <td>1.679654e+18</td>\n",
       "      <td>0.105179</td>\n",
       "      <td>19.250921</td>\n",
       "      <td>17.689831</td>\n",
       "      <td>16.871152</td>\n",
       "      <td>0.753912</td>\n",
       "      <td>0.246088</td>\n",
       "    </tr>\n",
       "    <tr>\n",
       "      <th>std</th>\n",
       "      <td>8.176158e+17</td>\n",
       "      <td>0.054212</td>\n",
       "      <td>1.160255</td>\n",
       "      <td>0.935735</td>\n",
       "      <td>0.849498</td>\n",
       "      <td>0.430731</td>\n",
       "      <td>0.430731</td>\n",
       "    </tr>\n",
       "    <tr>\n",
       "      <th>min</th>\n",
       "      <td>2.994935e+17</td>\n",
       "      <td>-0.010229</td>\n",
       "      <td>14.215280</td>\n",
       "      <td>12.633190</td>\n",
       "      <td>11.651310</td>\n",
       "      <td>0.000000</td>\n",
       "      <td>0.000000</td>\n",
       "    </tr>\n",
       "    <tr>\n",
       "      <th>25%</th>\n",
       "      <td>9.682798e+17</td>\n",
       "      <td>0.065630</td>\n",
       "      <td>18.599810</td>\n",
       "      <td>17.181145</td>\n",
       "      <td>16.445105</td>\n",
       "      <td>1.000000</td>\n",
       "      <td>0.000000</td>\n",
       "    </tr>\n",
       "    <tr>\n",
       "      <th>50%</th>\n",
       "      <td>1.643831e+18</td>\n",
       "      <td>0.097180</td>\n",
       "      <td>19.276540</td>\n",
       "      <td>17.890205</td>\n",
       "      <td>17.114245</td>\n",
       "      <td>1.000000</td>\n",
       "      <td>0.000000</td>\n",
       "    </tr>\n",
       "    <tr>\n",
       "      <th>75%</th>\n",
       "      <td>2.365523e+18</td>\n",
       "      <td>0.136927</td>\n",
       "      <td>19.907000</td>\n",
       "      <td>18.363183</td>\n",
       "      <td>17.518913</td>\n",
       "      <td>1.000000</td>\n",
       "      <td>0.000000</td>\n",
       "    </tr>\n",
       "    <tr>\n",
       "      <th>max</th>\n",
       "      <td>3.348509e+18</td>\n",
       "      <td>0.619735</td>\n",
       "      <td>36.276480</td>\n",
       "      <td>28.158310</td>\n",
       "      <td>19.531140</td>\n",
       "      <td>1.000000</td>\n",
       "      <td>1.000000</td>\n",
       "    </tr>\n",
       "  </tbody>\n",
       "</table>\n",
       "</div>"
      ],
      "text/plain": [
       "          specobjid              z     petroMag_u     petroMAg_g  \\\n",
       "count  2.456560e+05  245656.000000  245656.000000  245656.000000   \n",
       "mean   1.679654e+18       0.105179      19.250921      17.689831   \n",
       "std    8.176158e+17       0.054212       1.160255       0.935735   \n",
       "min    2.994935e+17      -0.010229      14.215280      12.633190   \n",
       "25%    9.682798e+17       0.065630      18.599810      17.181145   \n",
       "50%    1.643831e+18       0.097180      19.276540      17.890205   \n",
       "75%    2.365523e+18       0.136927      19.907000      18.363183   \n",
       "max    3.348509e+18       0.619735      36.276480      28.158310   \n",
       "\n",
       "          petroMag_r         spiral     elliptical  \n",
       "count  245656.000000  245656.000000  245656.000000  \n",
       "mean       16.871152       0.753912       0.246088  \n",
       "std         0.849498       0.430731       0.430731  \n",
       "min        11.651310       0.000000       0.000000  \n",
       "25%        16.445105       1.000000       0.000000  \n",
       "50%        17.114245       1.000000       0.000000  \n",
       "75%        17.518913       1.000000       0.000000  \n",
       "max        19.531140       1.000000       1.000000  "
      ]
     },
     "execution_count": 5,
     "metadata": {},
     "output_type": "execute_result"
    }
   ],
   "source": [
    "df.describe()"
   ]
  },
  {
   "cell_type": "code",
   "execution_count": 6,
   "id": "b60afed0",
   "metadata": {},
   "outputs": [],
   "source": [
    "#df.corr?"
   ]
  },
  {
   "cell_type": "code",
   "execution_count": 7,
   "id": "f6bf0390",
   "metadata": {},
   "outputs": [
    {
     "data": {
      "text/html": [
       "<div>\n",
       "<style scoped>\n",
       "    .dataframe tbody tr th:only-of-type {\n",
       "        vertical-align: middle;\n",
       "    }\n",
       "\n",
       "    .dataframe tbody tr th {\n",
       "        vertical-align: top;\n",
       "    }\n",
       "\n",
       "    .dataframe thead th {\n",
       "        text-align: right;\n",
       "    }\n",
       "</style>\n",
       "<table border=\"1\" class=\"dataframe\">\n",
       "  <thead>\n",
       "    <tr style=\"text-align: right;\">\n",
       "      <th></th>\n",
       "      <th>specobjid</th>\n",
       "      <th>z</th>\n",
       "      <th>petroMag_u</th>\n",
       "      <th>petroMAg_g</th>\n",
       "      <th>petroMag_r</th>\n",
       "      <th>spiral</th>\n",
       "      <th>elliptical</th>\n",
       "    </tr>\n",
       "  </thead>\n",
       "  <tbody>\n",
       "    <tr>\n",
       "      <th>specobjid</th>\n",
       "      <td>1.000000</td>\n",
       "      <td>-0.017495</td>\n",
       "      <td>-0.037851</td>\n",
       "      <td>-0.024563</td>\n",
       "      <td>-0.015355</td>\n",
       "      <td>0.018248</td>\n",
       "      <td>-0.018248</td>\n",
       "    </tr>\n",
       "    <tr>\n",
       "      <th>z</th>\n",
       "      <td>-0.017495</td>\n",
       "      <td>1.000000</td>\n",
       "      <td>0.652675</td>\n",
       "      <td>0.696274</td>\n",
       "      <td>0.549106</td>\n",
       "      <td>-0.367598</td>\n",
       "      <td>0.367598</td>\n",
       "    </tr>\n",
       "    <tr>\n",
       "      <th>petroMag_u</th>\n",
       "      <td>-0.037851</td>\n",
       "      <td>0.652675</td>\n",
       "      <td>1.000000</td>\n",
       "      <td>0.831805</td>\n",
       "      <td>0.729217</td>\n",
       "      <td>-0.203506</td>\n",
       "      <td>0.203506</td>\n",
       "    </tr>\n",
       "    <tr>\n",
       "      <th>petroMAg_g</th>\n",
       "      <td>-0.024563</td>\n",
       "      <td>0.696274</td>\n",
       "      <td>0.831805</td>\n",
       "      <td>1.000000</td>\n",
       "      <td>0.959851</td>\n",
       "      <td>-0.029451</td>\n",
       "      <td>0.029451</td>\n",
       "    </tr>\n",
       "    <tr>\n",
       "      <th>petroMag_r</th>\n",
       "      <td>-0.015355</td>\n",
       "      <td>0.549106</td>\n",
       "      <td>0.729217</td>\n",
       "      <td>0.959851</td>\n",
       "      <td>1.000000</td>\n",
       "      <td>0.157233</td>\n",
       "      <td>-0.157233</td>\n",
       "    </tr>\n",
       "    <tr>\n",
       "      <th>spiral</th>\n",
       "      <td>0.018248</td>\n",
       "      <td>-0.367598</td>\n",
       "      <td>-0.203506</td>\n",
       "      <td>-0.029451</td>\n",
       "      <td>0.157233</td>\n",
       "      <td>1.000000</td>\n",
       "      <td>-1.000000</td>\n",
       "    </tr>\n",
       "    <tr>\n",
       "      <th>elliptical</th>\n",
       "      <td>-0.018248</td>\n",
       "      <td>0.367598</td>\n",
       "      <td>0.203506</td>\n",
       "      <td>0.029451</td>\n",
       "      <td>-0.157233</td>\n",
       "      <td>-1.000000</td>\n",
       "      <td>1.000000</td>\n",
       "    </tr>\n",
       "  </tbody>\n",
       "</table>\n",
       "</div>"
      ],
      "text/plain": [
       "            specobjid         z  petroMag_u  petroMAg_g  petroMag_r    spiral  \\\n",
       "specobjid    1.000000 -0.017495   -0.037851   -0.024563   -0.015355  0.018248   \n",
       "z           -0.017495  1.000000    0.652675    0.696274    0.549106 -0.367598   \n",
       "petroMag_u  -0.037851  0.652675    1.000000    0.831805    0.729217 -0.203506   \n",
       "petroMAg_g  -0.024563  0.696274    0.831805    1.000000    0.959851 -0.029451   \n",
       "petroMag_r  -0.015355  0.549106    0.729217    0.959851    1.000000  0.157233   \n",
       "spiral       0.018248 -0.367598   -0.203506   -0.029451    0.157233  1.000000   \n",
       "elliptical  -0.018248  0.367598    0.203506    0.029451   -0.157233 -1.000000   \n",
       "\n",
       "            elliptical  \n",
       "specobjid    -0.018248  \n",
       "z             0.367598  \n",
       "petroMag_u    0.203506  \n",
       "petroMAg_g    0.029451  \n",
       "petroMag_r   -0.157233  \n",
       "spiral       -1.000000  \n",
       "elliptical    1.000000  "
      ]
     },
     "execution_count": 7,
     "metadata": {},
     "output_type": "execute_result"
    }
   ],
   "source": [
    "#calcular correlaciones entre pares de variables\n",
    "df.corr()"
   ]
  },
  {
   "cell_type": "code",
   "execution_count": 8,
   "id": "bc061946",
   "metadata": {},
   "outputs": [],
   "source": [
    "#df.to_csv?  #para guardarlo a mi disco"
   ]
  },
  {
   "cell_type": "code",
   "execution_count": 9,
   "id": "0cee6553",
   "metadata": {},
   "outputs": [
    {
     "data": {
      "text/plain": [
       "specobjid     1.894933e+18\n",
       "z             2.909240e-02\n",
       "petroMag_u    1.676050e+01\n",
       "petroMAg_g    1.487574e+01\n",
       "petroMag_r    1.406400e+01\n",
       "spiral        0.000000e+00\n",
       "elliptical    1.000000e+00\n",
       "Name: 4, dtype: float64"
      ]
     },
     "execution_count": 9,
     "metadata": {},
     "output_type": "execute_result"
    }
   ],
   "source": [
    "#para ver una fila:\n",
    "df.iloc[4]"
   ]
  },
  {
   "cell_type": "code",
   "execution_count": null,
   "id": "3504e96e",
   "metadata": {},
   "outputs": [],
   "source": [
    "#se quiere ver la distribución de índices de color para galaxias elípticas y para galaxias espirales\n",
    "ind_gr = df['petroMAg_g'] - df['petroMag_r']\n",
    "ind_ug = df['petroMag_u'] - df['petroMAg_g']\n",
    "\n",
    "\n",
    "s = []\n",
    "e = []\n",
    "S_g_r = []\n",
    "E_g_r = []\n",
    "S_u_g = []\n",
    "E_u_g = []\n",
    "for i in range(len(df['z'])):\n",
    "    if df['spiral'][i] == 1 :\n",
    "        s.append(df['specobjid'][i])\n",
    "        S_g_r.append(ind_gr[i])\n",
    "        S_u_g.append(ind_ug[i])\n",
    "    else:\n",
    "        e.append(df['specobjid'][i])\n",
    "        E_g_r.append(ind_gr[i])\n",
    "        E_u_g.append(ind_ug[i])"
   ]
  },
  {
   "cell_type": "code",
   "execution_count": null,
   "id": "1dfe8bb2",
   "metadata": {},
   "outputs": [],
   "source": [
    "len(s)"
   ]
  },
  {
   "cell_type": "code",
   "execution_count": null,
   "id": "ef9d90c5",
   "metadata": {},
   "outputs": [],
   "source": [
    "len(e)"
   ]
  },
  {
   "cell_type": "code",
   "execution_count": null,
   "id": "b1d69b79",
   "metadata": {},
   "outputs": [],
   "source": [
    "len(s)+len(e)"
   ]
  },
  {
   "cell_type": "code",
   "execution_count": null,
   "id": "23e9cbaa",
   "metadata": {},
   "outputs": [],
   "source": [
    "#Graficamos g-r\n",
    "\n",
    "plt.hist(S_g_r, bins='auto', density = True, label=\"Espirales\")\n",
    "plt.hist(E_g_r, bins='auto', density = True, label=\"Elípticas\")\n",
    "plt.xlim(0,2)\n",
    "plt.legend()\n",
    "plt.title('Distribución IC(g-r)')\n",
    "plt.xlabel('g-r')\n",
    "plt.ylabel('Frecuencia')"
   ]
  },
  {
   "cell_type": "code",
   "execution_count": null,
   "id": "24db88f4",
   "metadata": {},
   "outputs": [],
   "source": [
    "#Graficamos u-g\n",
    "\n",
    "plt.hist(S_u_g, bins='auto', density= True, label=\"Espirales\")\n",
    "plt.hist(E_u_g, bins='auto', density= True, label=\"Elípticas\")\n",
    "plt.xlim(0,4)\n",
    "plt.legend()\n",
    "plt.title('Distribución IC(u-g)')\n",
    "plt.xlabel('u-g')\n",
    "plt.ylabel('Frecuencia')"
   ]
  },
  {
   "cell_type": "markdown",
   "id": "93ab1921",
   "metadata": {},
   "source": [
    "Queremos determinar si las distribuciones para las galaxias espirales y elípticas son consistentes en ambos IC.\n",
    "\n",
    "\n",
    "Vamos a usar el test de Kolmogorov-Smirnov (K-S) para hacer una prueba de hipótesis.\n",
    "\n",
    "#### Hipótesis nula $H_{0}$: \n",
    "Las 2 muestras siguen la misma distribución (las galaxias elípticas y espirales son del mismo color).\n",
    "\n",
    "#### Hipótesis alternativa $H_{a}$: \n",
    "Las 2 muestras no siguen la misma distribución (las galaxias elípticas y espirales no son del mismo color).\n",
    "\n",
    "#### Nivel de significancia: \n",
    "$$\\alpha = 0.05$$ \n",
    "\n",
    "(Nivel de confianza: $95\\% $)\n",
    "\n",
    "#### Estadístico de prueba:\n",
    "\n",
    "Se utiliza el Método de Kolmogorov-Smirnov el cual compara la función de distribución acumulada, $F(x)$, para dos muestras.\n",
    "\n",
    "El estadístico K-S en este caso es el valor máximo del modulo de la diferencia entre las distribuciones acumuladas observadas:\n",
    "\n",
    "$$D = max|F_{1}(x)-F_{2}(x)|$$\n",
    "\n",
    "donde $0 \\leq D \\leq 1$\n",
    "\n",
    "#### Zona de aceptación:\n",
    "$$ D < D_{KS}$$ \n",
    "\n",
    "donde $D_{KS}$ se extrae de tablas teniendo en cuenta $\\alpha$ y el número efectivo de datos $\\eta_{e}$.\n",
    "\n",
    "#### Zona de rechazo:\n",
    "$$ D > D_{KS}$$"
   ]
  },
  {
   "cell_type": "code",
   "execution_count": null,
   "id": "dba6c527",
   "metadata": {},
   "outputs": [],
   "source": [
    "# En este caso vamos a utilizar la función de spicy stats para dos muestras:\n",
    "#st.ks_2samp?\n",
    "# vemos que nos devuelve un estadístico KS y un valor-p\n",
    "# por default, la hipotesis nula es que las distribuciones son identicas\n",
    "# si el estadístico KS es chico o el valor-p es grande entonces:\n",
    "# no se puede rechazar la hipotesis nula en favor de la hipotesis alternativa\n",
    "# en nuestro caso, si el valor-p < 0.05 (alpha) se rechazará la hip nula"
   ]
  },
  {
   "cell_type": "markdown",
   "id": "64df7363",
   "metadata": {},
   "source": [
    "### Caso IC (g-r)"
   ]
  },
  {
   "cell_type": "code",
   "execution_count": null,
   "id": "53a80164",
   "metadata": {},
   "outputs": [],
   "source": [
    "st.ks_2samp(S_g_r, E_g_r)"
   ]
  },
  {
   "cell_type": "markdown",
   "id": "57b6c09b",
   "metadata": {},
   "source": [
    "### Caso IC (u-g)"
   ]
  },
  {
   "cell_type": "code",
   "execution_count": null,
   "id": "e9ed4be9",
   "metadata": {},
   "outputs": [],
   "source": [
    "st.ks_2samp(S_u_g, E_u_g)"
   ]
  },
  {
   "cell_type": "markdown",
   "id": "424ce5fc",
   "metadata": {},
   "source": [
    "En ambos casos se puede ver que el valor-p es igual a cero. Por lo que se rechaza la hipótesis nula a favor de la hipótesis altenativa concluyendo que las distintas clasificaciones de galaxias no siguen la misma distribución de color en ninguno de los casos."
   ]
  },
  {
   "cell_type": "markdown",
   "id": "980be821",
   "metadata": {},
   "source": [
    "# Distribución de tipos morfológicos"
   ]
  },
  {
   "cell_type": "code",
   "execution_count": null,
   "id": "fad47a21",
   "metadata": {},
   "outputs": [],
   "source": [
    "x=['Elípticas', 'Espirales']\n",
    "y=[len(e),len(s)]\n",
    "plt.bar(x,y)"
   ]
  },
  {
   "cell_type": "markdown",
   "id": "00c631db",
   "metadata": {},
   "source": [
    "Si las galaxias tuvieran una distribución uniforme de tipos morfológicos, el gráfico sería aproximado al siguiente:"
   ]
  },
  {
   "cell_type": "code",
   "execution_count": null,
   "id": "3eb0fef5",
   "metadata": {},
   "outputs": [],
   "source": [
    "x=['Elípticas', 'Espirales']\n",
    "y=[(len(e)+len(s))/2, (len(e)+len(s))/2]\n",
    "plt.bar(x,y)\n",
    "plt.ylim(0, len(s))"
   ]
  },
  {
   "cell_type": "markdown",
   "id": "d833c009",
   "metadata": {},
   "source": [
    "En nuestro caso, se puede apreciar claramente la diferencia en cantidad de las galaxias de distintos tipos, notando una distribución no uniforme."
   ]
  },
  {
   "cell_type": "markdown",
   "id": "8d5249bc",
   "metadata": {},
   "source": [
    "# Magnitudes aparentes"
   ]
  },
  {
   "cell_type": "code",
   "execution_count": null,
   "id": "7f7678eb",
   "metadata": {
    "scrolled": true
   },
   "outputs": [],
   "source": [
    "plt.scatter(df['petroMAg_g'],df['petroMag_r'], s=1)\n",
    "plt.title('Magnitudes aparentes g vs r')\n",
    "plt.xlabel('g')\n",
    "plt.ylabel('r')\n"
   ]
  },
  {
   "cell_type": "markdown",
   "id": "43cefde2",
   "metadata": {},
   "source": [
    "Se desea ajustar una curva a la distribución observada, en este caso se opta por una recta o función lineal de la forma:\n",
    "$$ y = a x + b $$"
   ]
  },
  {
   "cell_type": "code",
   "execution_count": null,
   "id": "6bc02e69",
   "metadata": {},
   "outputs": [],
   "source": [
    "#vamos a usar la funcion curve_fit:\n",
    "from scipy.optimize import curve_fit\n",
    "curve_fit?\n",
    "\n",
    "\n",
    "#devuelve los valores óptimos para los parámetros y la matriz de covarianza\n"
   ]
  },
  {
   "cell_type": "code",
   "execution_count": null,
   "id": "8c091cc2",
   "metadata": {},
   "outputs": [],
   "source": [
    "#para eso debemos definir la función ajuste:\n",
    "def f(x, a, b):\n",
    "    y = a*x+b\n",
    "    return y"
   ]
  },
  {
   "cell_type": "code",
   "execution_count": null,
   "id": "fcff6eb0",
   "metadata": {},
   "outputs": [],
   "source": [
    "c= curve_fit(f, df['petroMAg_g'], df['petroMag_r'])\n",
    "a0 = c[0][0]\n",
    "b0 = c[0][1]"
   ]
  },
  {
   "cell_type": "code",
   "execution_count": null,
   "id": "540e1057",
   "metadata": {},
   "outputs": [],
   "source": [
    "#np.arange?"
   ]
  },
  {
   "cell_type": "code",
   "execution_count": null,
   "id": "5b547e7e",
   "metadata": {},
   "outputs": [],
   "source": [
    "plt.scatter(df['petroMAg_g'],df['petroMag_r'], s=1, label= 'Datos')\n",
    "\n",
    "p=np.arange(min(df['petroMAg_g']),max(df['petroMAg_g']), 0.5)\n",
    "plt.plot(p, f(p, a0, b0), c='r', lw=1, label='Ajuste lineal')\n",
    "\n",
    "\n",
    "plt.title('Magnitudes aparentes g vs r')\n",
    "plt.xlabel('g')\n",
    "plt.ylabel('r')\n",
    "plt.legend()"
   ]
  },
  {
   "cell_type": "code",
   "execution_count": null,
   "id": "162e0642",
   "metadata": {},
   "outputs": [],
   "source": [
    "# vamos a repetir el ajuste pero desechando los puntos con g>21\n",
    "\n",
    "g_21 = []\n",
    "r_21 = []\n",
    "for i in range(len(df['z'])):\n",
    "    if df['petroMAg_g'][i] < 21. :\n",
    "        g_21.append(df['petroMAg_g'][i])\n",
    "        r_21.append(df['petroMag_r'][i])\n",
    "\n",
    "        \n",
    "c_21= curve_fit(f, g_21, r_21)\n",
    "a_21 = c_21[0][0]\n",
    "b_21 = c_21[0][1]\n",
    "\n",
    "plt.scatter(g_21, r_21, s=1, label= 'Datos')\n",
    "\n",
    "p_21=np.arange(min(g_21),max(g_21), 0.1)\n",
    "plt.plot(p_21, f(p_21, a_21, b_21), c='r', lw=1, label='Ajuste lineal')\n",
    "\n",
    "\n",
    "plt.title('Magnitudes aparentes g vs r')\n",
    "plt.xlabel('g')\n",
    "plt.ylabel('r')\n",
    "plt.legend()"
   ]
  },
  {
   "cell_type": "markdown",
   "id": "0a9647da",
   "metadata": {},
   "source": [
    "Al descartar los puntos con g > 21, el ajuste no cambia de manera apreciable:"
   ]
  },
  {
   "cell_type": "code",
   "execution_count": null,
   "id": "1d75c86f",
   "metadata": {},
   "outputs": [],
   "source": [
    "a0, a_21, b0, b_21"
   ]
  },
  {
   "cell_type": "markdown",
   "id": "3a512ee8",
   "metadata": {},
   "source": [
    "# Magnitud absoluta\n",
    "\n",
    "Se usará la aproximación:\n",
    "\n",
    "\\begin{equation}\n",
    "M= m - 25 - 5.log_{10} \\left( \\frac  {c.z}{H} \\right)\n",
    "\\end{equation}\n",
    "\n",
    "donde c es la velocidad de la luz y $H = 75 km s^{-1}/Mpc$.\n",
    "\n",
    "Se calculará la magnitud absoluta para cada galaxia con $m_{r}<17.5$."
   ]
  },
  {
   "cell_type": "code",
   "execution_count": null,
   "id": "6650ef26",
   "metadata": {},
   "outputs": [],
   "source": [
    "c= 300000\n",
    "H= 75.\n",
    "\n",
    "\n",
    "\n",
    "MA = []\n",
    "z = []\n",
    "\n",
    "for i in range(len(df['z'])):\n",
    "    if df['petroMag_r'][i] < 17.5 :\n",
    "        M = df['petroMag_r'][i] - 25 - 5 * np.log10 (c * df['z'][i] / H)\n",
    "        MA.append(M)\n",
    "        z.append(df['z'][i])\n",
    "    else:\n",
    "        None"
   ]
  },
  {
   "cell_type": "code",
   "execution_count": null,
   "id": "95b5f68f",
   "metadata": {},
   "outputs": [],
   "source": [
    "plt.scatter(z,MA , s=1)\n",
    "plt.title('Magnitud absoluta vs. Redshift')\n",
    "plt.xlabel('z')\n",
    "plt.ylabel('$M_r$')"
   ]
  },
  {
   "cell_type": "markdown",
   "id": "4bd974b5",
   "metadata": {},
   "source": [
    "Se puede notar una magnitud límite para cada redshift, es decir para cada valor de redshift hay un cierto rango de magnitudes absolutas pero las magnitudes máximas recaen sobre una curva."
   ]
  }
 ],
 "metadata": {
  "kernelspec": {
   "display_name": "Python 3 (ipykernel)",
   "language": "python",
   "name": "python3"
  },
  "language_info": {
   "codemirror_mode": {
    "name": "ipython",
    "version": 3
   },
   "file_extension": ".py",
   "mimetype": "text/x-python",
   "name": "python",
   "nbconvert_exporter": "python",
   "pygments_lexer": "ipython3",
   "version": "3.8.10"
  }
 },
 "nbformat": 4,
 "nbformat_minor": 5
}
